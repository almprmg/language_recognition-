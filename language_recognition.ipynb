{
  "nbformat": 4,
  "nbformat_minor": 0,
  "metadata": {
    "colab": {
      "provenance": []
    },
    "kernelspec": {
      "name": "python3",
      "display_name": "Python 3"
    },
    "language_info": {
      "name": "python"
    }
  },
  "cells": [
    {
      "cell_type": "code",
      "source": [
        "!pip install langdetect nltk\n"
      ],
      "metadata": {
        "colab": {
          "base_uri": "https://localhost:8080/"
        },
        "id": "u_4ii3mEiFdX",
        "outputId": "ecdd2d49-07a5-40be-8489-4a5efbea7bcd"
      },
      "execution_count": 5,
      "outputs": [
        {
          "output_type": "stream",
          "name": "stdout",
          "text": [
            "Collecting langdetect\n",
            "  Downloading langdetect-1.0.9.tar.gz (981 kB)\n",
            "\u001b[?25l     \u001b[90m━━━━━━━━━━━━━━━━━━━━━━━━━━━━━━━━━━━━━━━━\u001b[0m \u001b[32m0.0/981.5 kB\u001b[0m \u001b[31m?\u001b[0m eta \u001b[36m-:--:--\u001b[0m\r\u001b[2K     \u001b[90m━━━━━━━━━━━━━━━━━━━━━━━━━━━━━━━━━━━━━━━━\u001b[0m \u001b[32m981.5/981.5 kB\u001b[0m \u001b[31m37.2 MB/s\u001b[0m eta \u001b[36m0:00:00\u001b[0m\n",
            "\u001b[?25h  Preparing metadata (setup.py) ... \u001b[?25l\u001b[?25hdone\n",
            "Requirement already satisfied: nltk in /usr/local/lib/python3.11/dist-packages (3.9.1)\n",
            "Requirement already satisfied: six in /usr/local/lib/python3.11/dist-packages (from langdetect) (1.17.0)\n",
            "Requirement already satisfied: click in /usr/local/lib/python3.11/dist-packages (from nltk) (8.1.8)\n",
            "Requirement already satisfied: joblib in /usr/local/lib/python3.11/dist-packages (from nltk) (1.4.2)\n",
            "Requirement already satisfied: regex>=2021.8.3 in /usr/local/lib/python3.11/dist-packages (from nltk) (2024.11.6)\n",
            "Requirement already satisfied: tqdm in /usr/local/lib/python3.11/dist-packages (from nltk) (4.67.1)\n",
            "Building wheels for collected packages: langdetect\n",
            "  Building wheel for langdetect (setup.py) ... \u001b[?25l\u001b[?25hdone\n",
            "  Created wheel for langdetect: filename=langdetect-1.0.9-py3-none-any.whl size=993222 sha256=006ca37be5dcb28d8151632bc66280b361825d15a31ac2598129502c9c5158b8\n",
            "  Stored in directory: /root/.cache/pip/wheels/0a/f2/b2/e5ca405801e05eb7c8ed5b3b4bcf1fcabcd6272c167640072e\n",
            "Successfully built langdetect\n",
            "Installing collected packages: langdetect\n",
            "Successfully installed langdetect-1.0.9\n"
          ]
        }
      ]
    },
    {
      "cell_type": "code",
      "source": [
        "!pip install --upgrade nltk\n"
      ],
      "metadata": {
        "colab": {
          "base_uri": "https://localhost:8080/"
        },
        "id": "s9amNFQQicO9",
        "outputId": "06d07238-c19f-45d6-9da7-6646d3e84bce"
      },
      "execution_count": 9,
      "outputs": [
        {
          "output_type": "stream",
          "name": "stdout",
          "text": [
            "Requirement already satisfied: nltk in /usr/local/lib/python3.11/dist-packages (3.9.1)\n",
            "Requirement already satisfied: click in /usr/local/lib/python3.11/dist-packages (from nltk) (8.1.8)\n",
            "Requirement already satisfied: joblib in /usr/local/lib/python3.11/dist-packages (from nltk) (1.4.2)\n",
            "Requirement already satisfied: regex>=2021.8.3 in /usr/local/lib/python3.11/dist-packages (from nltk) (2024.11.6)\n",
            "Requirement already satisfied: tqdm in /usr/local/lib/python3.11/dist-packages (from nltk) (4.67.1)\n"
          ]
        }
      ]
    },
    {
      "cell_type": "code",
      "source": [
        "from langdetect import detect\n",
        "import nltk\n",
        "\n",
        "nltk.download('punkt')\n",
        "nltk.download('punkt_tab')"
      ],
      "metadata": {
        "id": "ucyp3ctXixjt"
      },
      "execution_count": null,
      "outputs": []
    },
    {
      "cell_type": "code",
      "source": [
        "\n",
        "\n",
        "def detect_language(text):\n",
        "    try:\n",
        "        language = detect(text)\n",
        "        return language\n",
        "    except Exception as e:\n",
        "        return f\"حدث خطأ أثناء الكشف عن اللغة: {e}\"\n",
        "\n",
        "def tokenize_text(text):\n",
        "    sentences = nltk.sent_tokenize(text)\n",
        "    words = nltk.word_tokenize(text)\n",
        "    return sentences, words\n",
        "def run_model(text):\n",
        "\n",
        "  language_code = detect_language(text)\n",
        "  print(\"لغة النص:\", language_code)\n",
        "  sentences, words = tokenize_text(text)\n",
        "  print(\"\\nالجمل:\")\n",
        "  for sentence in sentences:\n",
        "      print(f\"- {sentence}\")\n",
        "\n",
        "  print(\"\\nالكلمات:\",words)\n"
      ],
      "metadata": {
        "id": "pgGOnxRyhK2l"
      },
      "execution_count": 33,
      "outputs": []
    },
    {
      "cell_type": "code",
      "source": [
        "\n",
        "\n",
        "run_model(\"هذا نص تجريبي باللغة العربية. \")"
      ],
      "metadata": {
        "colab": {
          "base_uri": "https://localhost:8080/"
        },
        "id": "GrKSclq5i0Z9",
        "outputId": "b614e519-2748-4f57-d3e6-db326b2595d2"
      },
      "execution_count": 34,
      "outputs": [
        {
          "output_type": "stream",
          "name": "stdout",
          "text": [
            "لغة النص: ar\n",
            "\n",
            "الجمل:\n",
            "- هذا نص تجريبي باللغة العربية.\n",
            "\n",
            "الكلمات: ['هذا', 'نص', 'تجريبي', 'باللغة', 'العربية', '.']\n"
          ]
        }
      ]
    },
    {
      "cell_type": "code",
      "source": [
        "run_model(\"It is a sample text in English. \")"
      ],
      "metadata": {
        "colab": {
          "base_uri": "https://localhost:8080/"
        },
        "id": "1IHKOe4niB0-",
        "outputId": "157228ea-ecf3-468f-ce45-838200f168c8"
      },
      "execution_count": 35,
      "outputs": [
        {
          "output_type": "stream",
          "name": "stdout",
          "text": [
            "لغة النص: en\n",
            "\n",
            "الجمل:\n",
            "- It is a sample text in English.\n",
            "\n",
            "الكلمات: ['It', 'is', 'a', 'sample', 'text', 'in', 'English', '.']\n"
          ]
        }
      ]
    },
    {
      "cell_type": "code",
      "source": [
        "run_model(\"C'est un texte d'exemple en français.\")"
      ],
      "metadata": {
        "colab": {
          "base_uri": "https://localhost:8080/"
        },
        "id": "f8yn4DF6mxF0",
        "outputId": "369740b4-ef47-4ffa-d059-579e18ca91b3"
      },
      "execution_count": 36,
      "outputs": [
        {
          "output_type": "stream",
          "name": "stdout",
          "text": [
            "لغة النص: fr\n",
            "\n",
            "الجمل:\n",
            "- C'est un texte d'exemple en français.\n",
            "\n",
            "الكلمات: [\"C'est\", 'un', 'texte', \"d'exemple\", 'en', 'français', '.']\n"
          ]
        }
      ]
    },
    {
      "cell_type": "code",
      "source": [
        "run_model(  \"\"\"البرمجة ممتعة ومفيدة.\n",
        "    تعلم البرمجة يساعد على تطوير المهارات.\n",
        "    ممارسة البرمجة بانتظام تعزز الفهم.\"\"\")\n"
      ],
      "metadata": {
        "colab": {
          "base_uri": "https://localhost:8080/"
        },
        "id": "iwblqLywjYd0",
        "outputId": "11e17f77-06ae-41b3-e468-e4657b73d797"
      },
      "execution_count": 38,
      "outputs": [
        {
          "output_type": "stream",
          "name": "stdout",
          "text": [
            "لغة النص: ar\n",
            "\n",
            "الجمل:\n",
            "- البرمجة ممتعة ومفيدة.\n",
            "- تعلم البرمجة يساعد على تطوير المهارات.\n",
            "- ممارسة البرمجة بانتظام تعزز الفهم.\n",
            "\n",
            "الكلمات: ['البرمجة', 'ممتعة', 'ومفيدة', '.', 'تعلم', 'البرمجة', 'يساعد', 'على', 'تطوير', 'المهارات', '.', 'ممارسة', 'البرمجة', 'بانتظام', 'تعزز', 'الفهم', '.']\n"
          ]
        }
      ]
    },
    {
      "cell_type": "code",
      "source": [],
      "metadata": {
        "id": "Mz5HNW-4nXMk"
      },
      "execution_count": null,
      "outputs": []
    }
  ]
}